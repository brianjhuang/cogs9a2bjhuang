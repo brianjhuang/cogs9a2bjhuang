{
 "cells": [
  {
   "cell_type": "code",
   "execution_count": 1,
   "metadata": {},
   "outputs": [],
   "source": [
    "# Run this cell to set up the notebook, but please don't change it.\n",
    "\n",
    "# These lines import the Numpy and Datascience modules.\n",
    "import numpy as np\n",
    "from datascience import *\n",
    "\n",
    "# These lines do some fancy plotting magic.\n",
    "import matplotlib\n",
    "%matplotlib inline\n",
    "import matplotlib.pyplot as plt\n",
    "plt.style.use('fivethirtyeight')\n",
    "import warnings\n",
    "warnings.simplefilter('ignore', FutureWarning)"
   ]
  },
  {
   "cell_type": "code",
   "execution_count": 2,
   "metadata": {},
   "outputs": [
    {
     "data": {
      "text/html": [
       "<table border=\"1\" class=\"dataframe\">\n",
       "    <thead>\n",
       "        <tr>\n",
       "            <th>ID</th> <th>Date</th> <th>Description</th> <th>Work Time (Formatted)</th> <th>Work Time (Seconds)</th> <th>Rest Time (Formatted)</th> <th>Rest Time (Seconds)</th> <th>Work Distance</th> <th>Rest Distance</th> <th>Stroke Rate/Cadence</th> <th>Stroke Count</th> <th>Pace</th> <th>Avg Watts</th> <th>Cal/Hour</th> <th>Avg Heart Rate</th> <th>Drag Factor</th> <th>Age</th> <th>Weight</th> <th>Type</th> <th>Ranked</th> <th>Comments</th>\n",
       "        </tr>\n",
       "    </thead>\n",
       "    <tbody>\n",
       "        <tr>\n",
       "            <td>36526970</td> <td>2019-01-15 17:52:00</td> <td>2000m row        </td> <td>7:16.6               </td> <td>436.6              </td> <td>nan                  </td> <td>nan                </td> <td>2000         </td> <td>nan          </td> <td>33                 </td> <td>244         </td> <td>1:49.1</td> <td>269      </td> <td>1226    </td> <td>nan           </td> <td>128        </td> <td>17  </td> <td>Lwt   </td> <td>Indoor Rower</td> <td>No    </td> <td>nan     </td>\n",
       "        </tr>\n",
       "        <tr>\n",
       "            <td>36359492</td> <td>2019-01-02 18:14:00</td> <td>10000m row       </td> <td>42:27.2              </td> <td>2547.2             </td> <td>nan                  </td> <td>nan                </td> <td>10000        </td> <td>nan          </td> <td>22                 </td> <td>940         </td> <td>2:07.3</td> <td>169      </td> <td>883     </td> <td>170           </td> <td>112        </td> <td>17  </td> <td>Lwt   </td> <td>Indoor Rower</td> <td>No    </td> <td>nan     </td>\n",
       "        </tr>\n",
       "        <tr>\n",
       "            <td>36359493</td> <td>2019-01-02 17:31:00</td> <td>0:44 row         </td> <td>0:44.4               </td> <td>44.4               </td> <td>nan                  </td> <td>nan                </td> <td>180          </td> <td>nan          </td> <td>23                 </td> <td>17          </td> <td>2:03.3</td> <td>187      </td> <td>942     </td> <td>131           </td> <td>113        </td> <td>17  </td> <td>Lwt   </td> <td>Indoor Rower</td> <td>No    </td> <td>nan     </td>\n",
       "        </tr>\n",
       "        <tr>\n",
       "            <td>36359494</td> <td>2019-01-02 17:29:00</td> <td>0:45 row         </td> <td>0:45.0               </td> <td>45                 </td> <td>nan                  </td> <td>nan                </td> <td>180          </td> <td>nan          </td> <td>23                 </td> <td>16          </td> <td>2:05.0</td> <td>179      </td> <td>916     </td> <td>131           </td> <td>113        </td> <td>17  </td> <td>Lwt   </td> <td>Indoor Rower</td> <td>No    </td> <td>nan     </td>\n",
       "        </tr>\n",
       "        <tr>\n",
       "            <td>36156396</td> <td>2018-12-27 18:45:00</td> <td>1x4000m/3:00r row</td> <td>16:54.8              </td> <td>1014.8             </td> <td>3:00.0               </td> <td>180                </td> <td>4000         </td> <td>16           </td> <td>22                 </td> <td>365         </td> <td>2:06.8</td> <td>171      </td> <td>890     </td> <td>nan           </td> <td>111        </td> <td>17  </td> <td>Lwt   </td> <td>Indoor Rower</td> <td>No    </td> <td>nan     </td>\n",
       "        </tr>\n",
       "        <tr>\n",
       "            <td>36156397</td> <td>2018-12-27 18:23:00</td> <td>1x4000m/3:00r row</td> <td>17:05.4              </td> <td>1025.4             </td> <td>3:00.0               </td> <td>180                </td> <td>4000         </td> <td>19           </td> <td>21                 </td> <td>354         </td> <td>2:08.1</td> <td>166      </td> <td>872     </td> <td>nan           </td> <td>111        </td> <td>17  </td> <td>Lwt   </td> <td>Indoor Rower</td> <td>No    </td> <td>nan     </td>\n",
       "        </tr>\n",
       "        <tr>\n",
       "            <td>36143355</td> <td>2018-12-26 19:02:00</td> <td>12:41 row        </td> <td>12:41.8              </td> <td>761.8              </td> <td>nan                  </td> <td>nan                </td> <td>3056         </td> <td>nan          </td> <td>21                 </td> <td>272         </td> <td>2:04.6</td> <td>181      </td> <td>922     </td> <td>nan           </td> <td>109        </td> <td>17  </td> <td>Lwt   </td> <td>Indoor Rower</td> <td>No    </td> <td>nan     </td>\n",
       "        </tr>\n",
       "        <tr>\n",
       "            <td>36143356</td> <td>2018-12-26 18:47:00</td> <td>2:54 row         </td> <td>2:54.2               </td> <td>174.2              </td> <td>nan                  </td> <td>nan                </td> <td>674          </td> <td>nan          </td> <td>21                 </td> <td>60          </td> <td>2:09.2</td> <td>162      </td> <td>858     </td> <td>nan           </td> <td>109        </td> <td>17  </td> <td>Lwt   </td> <td>Indoor Rower</td> <td>No    </td> <td>nan     </td>\n",
       "        </tr>\n",
       "        <tr>\n",
       "            <td>36143357</td> <td>2018-12-26 18:34:00</td> <td>1:49 row         </td> <td>1:49.9               </td> <td>109.9              </td> <td>nan                  </td> <td>nan                </td> <td>433          </td> <td>nan          </td> <td>21                 </td> <td>38          </td> <td>2:06.9</td> <td>171      </td> <td>889     </td> <td>nan           </td> <td>109        </td> <td>17  </td> <td>Lwt   </td> <td>Indoor Rower</td> <td>No    </td> <td>nan     </td>\n",
       "        </tr>\n",
       "        <tr>\n",
       "            <td>36143358</td> <td>2018-12-26 18:25:00</td> <td>1x4000m/2:00r row</td> <td>16:52.4              </td> <td>1012.4             </td> <td>2:00.0               </td> <td>120                </td> <td>4000         </td> <td>19           </td> <td>21                 </td> <td>356         </td> <td>2:06.5</td> <td>173      </td> <td>894     </td> <td>nan           </td> <td>109        </td> <td>17  </td> <td>Lwt   </td> <td>Indoor Rower</td> <td>No    </td> <td>nan     </td>\n",
       "        </tr>\n",
       "    </tbody>\n",
       "</table>\n",
       "<p>... (192 rows omitted)</p>"
      ],
      "text/plain": [
       "ID       | Date                | Description       | Work Time (Formatted) | Work Time (Seconds) | Rest Time (Formatted) | Rest Time (Seconds) | Work Distance | Rest Distance | Stroke Rate/Cadence | Stroke Count | Pace   | Avg Watts | Cal/Hour | Avg Heart Rate | Drag Factor | Age  | Weight | Type         | Ranked | Comments\n",
       "36526970 | 2019-01-15 17:52:00 | 2000m row         | 7:16.6                | 436.6               | nan                   | nan                 | 2000          | nan           | 33                  | 244          | 1:49.1 | 269       | 1226     | nan            | 128         | 17   | Lwt    | Indoor Rower | No     | nan\n",
       "36359492 | 2019-01-02 18:14:00 | 10000m row        | 42:27.2               | 2547.2              | nan                   | nan                 | 10000         | nan           | 22                  | 940          | 2:07.3 | 169       | 883      | 170            | 112         | 17   | Lwt    | Indoor Rower | No     | nan\n",
       "36359493 | 2019-01-02 17:31:00 | 0:44 row          | 0:44.4                | 44.4                | nan                   | nan                 | 180           | nan           | 23                  | 17           | 2:03.3 | 187       | 942      | 131            | 113         | 17   | Lwt    | Indoor Rower | No     | nan\n",
       "36359494 | 2019-01-02 17:29:00 | 0:45 row          | 0:45.0                | 45                  | nan                   | nan                 | 180           | nan           | 23                  | 16           | 2:05.0 | 179       | 916      | 131            | 113         | 17   | Lwt    | Indoor Rower | No     | nan\n",
       "36156396 | 2018-12-27 18:45:00 | 1x4000m/3:00r row | 16:54.8               | 1014.8              | 3:00.0                | 180                 | 4000          | 16            | 22                  | 365          | 2:06.8 | 171       | 890      | nan            | 111         | 17   | Lwt    | Indoor Rower | No     | nan\n",
       "36156397 | 2018-12-27 18:23:00 | 1x4000m/3:00r row | 17:05.4               | 1025.4              | 3:00.0                | 180                 | 4000          | 19            | 21                  | 354          | 2:08.1 | 166       | 872      | nan            | 111         | 17   | Lwt    | Indoor Rower | No     | nan\n",
       "36143355 | 2018-12-26 19:02:00 | 12:41 row         | 12:41.8               | 761.8               | nan                   | nan                 | 3056          | nan           | 21                  | 272          | 2:04.6 | 181       | 922      | nan            | 109         | 17   | Lwt    | Indoor Rower | No     | nan\n",
       "36143356 | 2018-12-26 18:47:00 | 2:54 row          | 2:54.2                | 174.2               | nan                   | nan                 | 674           | nan           | 21                  | 60           | 2:09.2 | 162       | 858      | nan            | 109         | 17   | Lwt    | Indoor Rower | No     | nan\n",
       "36143357 | 2018-12-26 18:34:00 | 1:49 row          | 1:49.9                | 109.9               | nan                   | nan                 | 433           | nan           | 21                  | 38           | 2:06.9 | 171       | 889      | nan            | 109         | 17   | Lwt    | Indoor Rower | No     | nan\n",
       "36143358 | 2018-12-26 18:25:00 | 1x4000m/2:00r row | 16:52.4               | 1012.4              | 2:00.0                | 120                 | 4000          | 19            | 21                  | 356          | 2:06.5 | 173       | 894      | nan            | 109         | 17   | Lwt    | Indoor Rower | No     | nan\n",
       "... (192 rows omitted)"
      ]
     },
     "execution_count": 2,
     "metadata": {},
     "output_type": "execute_result"
    }
   ],
   "source": [
    "#This imports the rowing CSV data\n",
    "rowing = Table().read_table(\"rowing.csv\")\n",
    "rowing"
   ]
  },
  {
   "cell_type": "code",
   "execution_count": 3,
   "metadata": {},
   "outputs": [],
   "source": [
    "#This creates an array which we will later append to the table with dates without timestamps\n",
    "better_date = make_array()\n",
    "for i in np.arange(rowing.num_rows):\n",
    "    x = rowing.column(\"Date\").item(i)\n",
    "    x = x[0:10]\n",
    "    better_date = np.append(better_date, x)"
   ]
  },
  {
   "cell_type": "code",
   "execution_count": 4,
   "metadata": {},
   "outputs": [
    {
     "data": {
      "text/html": [
       "<table border=\"1\" class=\"dataframe\">\n",
       "    <thead>\n",
       "        <tr>\n",
       "            <th>Date</th> <th>Work Distance</th> <th>Drag Factor</th> <th>Work Time (Seconds)</th>\n",
       "        </tr>\n",
       "    </thead>\n",
       "    <tbody>\n",
       "        <tr>\n",
       "            <td>2019-01-15</td> <td>2000         </td> <td>128        </td> <td>436.6              </td>\n",
       "        </tr>\n",
       "        <tr>\n",
       "            <td>2019-01-02</td> <td>10000        </td> <td>112        </td> <td>2547.2             </td>\n",
       "        </tr>\n",
       "        <tr>\n",
       "            <td>2019-01-02</td> <td>180          </td> <td>113        </td> <td>44.4               </td>\n",
       "        </tr>\n",
       "        <tr>\n",
       "            <td>2019-01-02</td> <td>180          </td> <td>113        </td> <td>45                 </td>\n",
       "        </tr>\n",
       "        <tr>\n",
       "            <td>2018-12-27</td> <td>4000         </td> <td>111        </td> <td>1014.8             </td>\n",
       "        </tr>\n",
       "        <tr>\n",
       "            <td>2018-12-27</td> <td>4000         </td> <td>111        </td> <td>1025.4             </td>\n",
       "        </tr>\n",
       "        <tr>\n",
       "            <td>2018-12-26</td> <td>3056         </td> <td>109        </td> <td>761.8              </td>\n",
       "        </tr>\n",
       "        <tr>\n",
       "            <td>2018-12-26</td> <td>674          </td> <td>109        </td> <td>174.2              </td>\n",
       "        </tr>\n",
       "        <tr>\n",
       "            <td>2018-12-26</td> <td>433          </td> <td>109        </td> <td>109.9              </td>\n",
       "        </tr>\n",
       "        <tr>\n",
       "            <td>2018-12-26</td> <td>4000         </td> <td>109        </td> <td>1012.4             </td>\n",
       "        </tr>\n",
       "    </tbody>\n",
       "</table>\n",
       "<p>... (192 rows omitted)</p>"
      ],
      "text/plain": [
       "Date       | Work Distance | Drag Factor | Work Time (Seconds)\n",
       "2019-01-15 | 2000          | 128         | 436.6\n",
       "2019-01-02 | 10000         | 112         | 2547.2\n",
       "2019-01-02 | 180           | 113         | 44.4\n",
       "2019-01-02 | 180           | 113         | 45\n",
       "2018-12-27 | 4000          | 111         | 1014.8\n",
       "2018-12-27 | 4000          | 111         | 1025.4\n",
       "2018-12-26 | 3056          | 109         | 761.8\n",
       "2018-12-26 | 674           | 109         | 174.2\n",
       "2018-12-26 | 433           | 109         | 109.9\n",
       "2018-12-26 | 4000          | 109         | 1012.4\n",
       "... (192 rows omitted)"
      ]
     },
     "execution_count": 4,
     "metadata": {},
     "output_type": "execute_result"
    }
   ],
   "source": [
    "#This selects the info we want.\n",
    "better_rowing = rowing.with_column(\"Better Date\", better_date)\n",
    "better_rowing = better_rowing.select(\"Better Date\", \"Work Distance\", \"Drag Factor\", \"Work Time (Seconds)\")\n",
    "better_rowing.relabel(\"Better Date\", \"Date\")"
   ]
  },
  {
   "cell_type": "code",
   "execution_count": 5,
   "metadata": {},
   "outputs": [
    {
     "data": {
      "text/html": [
       "<table border=\"1\" class=\"dataframe\">\n",
       "    <thead>\n",
       "        <tr>\n",
       "            <th>Date</th> <th>Work Distance sum</th> <th>Drag Factor sum</th> <th>Work Time (Seconds) sum</th>\n",
       "        </tr>\n",
       "    </thead>\n",
       "    <tbody>\n",
       "        <tr>\n",
       "            <td>2018-05-09</td> <td>9313             </td> <td>99             </td> <td>2400                   </td>\n",
       "        </tr>\n",
       "        <tr>\n",
       "            <td>2018-05-10</td> <td>18809            </td> <td>103            </td> <td>4800                   </td>\n",
       "        </tr>\n",
       "        <tr>\n",
       "            <td>2018-05-12</td> <td>9435             </td> <td>101            </td> <td>2400                   </td>\n",
       "        </tr>\n",
       "        <tr>\n",
       "            <td>2018-05-13</td> <td>21325            </td> <td>291            </td> <td>5414.6                 </td>\n",
       "        </tr>\n",
       "        <tr>\n",
       "            <td>2018-05-14</td> <td>7127             </td> <td>97             </td> <td>1800                   </td>\n",
       "        </tr>\n",
       "        <tr>\n",
       "            <td>2018-05-18</td> <td>9367             </td> <td>394            </td> <td>2252.8                 </td>\n",
       "        </tr>\n",
       "        <tr>\n",
       "            <td>2018-05-21</td> <td>18904            </td> <td>104            </td> <td>4800                   </td>\n",
       "        </tr>\n",
       "        <tr>\n",
       "            <td>2018-05-22</td> <td>422              </td> <td>168            </td> <td>215.1                  </td>\n",
       "        </tr>\n",
       "        <tr>\n",
       "            <td>2018-05-24</td> <td>22040            </td> <td>nan            </td> <td>5742.2                 </td>\n",
       "        </tr>\n",
       "        <tr>\n",
       "            <td>2018-05-30</td> <td>9636             </td> <td>96             </td> <td>2400                   </td>\n",
       "        </tr>\n",
       "    </tbody>\n",
       "</table>\n",
       "<p>... (87 rows omitted)</p>"
      ],
      "text/plain": [
       "Date       | Work Distance sum | Drag Factor sum | Work Time (Seconds) sum\n",
       "2018-05-09 | 9313              | 99              | 2400\n",
       "2018-05-10 | 18809             | 103             | 4800\n",
       "2018-05-12 | 9435              | 101             | 2400\n",
       "2018-05-13 | 21325             | 291             | 5414.6\n",
       "2018-05-14 | 7127              | 97              | 1800\n",
       "2018-05-18 | 9367              | 394             | 2252.8\n",
       "2018-05-21 | 18904             | 104             | 4800\n",
       "2018-05-22 | 422               | 168             | 215.1\n",
       "2018-05-24 | 22040             | nan             | 5742.2\n",
       "2018-05-30 | 9636              | 96              | 2400\n",
       "... (87 rows omitted)"
      ]
     },
     "execution_count": 5,
     "metadata": {},
     "output_type": "execute_result"
    }
   ],
   "source": [
    "#This groups and sums our values by date\n",
    "better_rowing_grouped = better_rowing.group(\"Date\", sum)\n",
    "better_rowing_grouped"
   ]
  },
  {
   "cell_type": "code",
   "execution_count": 6,
   "metadata": {},
   "outputs": [
    {
     "data": {
      "text/html": [
       "<table border=\"1\" class=\"dataframe\">\n",
       "    <thead>\n",
       "        <tr>\n",
       "            <th>Date</th> <th>Work Distance sum</th> <th>Drag Factor sum</th> <th>Work Time (Seconds) sum</th>\n",
       "        </tr>\n",
       "    </thead>\n",
       "    <tbody>\n",
       "        <tr>\n",
       "            <td>2018-06-18</td> <td>14279            </td> <td>109            </td> <td>3600                   </td>\n",
       "        </tr>\n",
       "        <tr>\n",
       "            <td>2018-06-19</td> <td>6399             </td> <td>775            </td> <td>1446.8                 </td>\n",
       "        </tr>\n",
       "        <tr>\n",
       "            <td>2018-06-20</td> <td>14365            </td> <td>100            </td> <td>3600                   </td>\n",
       "        </tr>\n",
       "        <tr>\n",
       "            <td>2018-06-21</td> <td>9696             </td> <td>136            </td> <td>2527.5                 </td>\n",
       "        </tr>\n",
       "        <tr>\n",
       "            <td>2018-06-22</td> <td>6072             </td> <td>312            </td> <td>1474.3                 </td>\n",
       "        </tr>\n",
       "        <tr>\n",
       "            <td>2018-06-25</td> <td>18403            </td> <td>101            </td> <td>4800                   </td>\n",
       "        </tr>\n",
       "        <tr>\n",
       "            <td>2018-06-26</td> <td>18319            </td> <td>nan            </td> <td>4740                   </td>\n",
       "        </tr>\n",
       "        <tr>\n",
       "            <td>2018-06-27</td> <td>23003            </td> <td>189            </td> <td>6000                   </td>\n",
       "        </tr>\n",
       "        <tr>\n",
       "            <td>2018-06-29</td> <td>19168            </td> <td>758            </td> <td>4906.9                 </td>\n",
       "        </tr>\n",
       "        <tr>\n",
       "            <td>2018-06-30</td> <td>9197             </td> <td>99             </td> <td>2400                   </td>\n",
       "        </tr>\n",
       "        <tr>\n",
       "            <td>2018-07-02</td> <td>17622            </td> <td>104            </td> <td>4800                   </td>\n",
       "        </tr>\n",
       "        <tr>\n",
       "            <td>2018-07-04</td> <td>18560            </td> <td>201            </td> <td>4800                   </td>\n",
       "        </tr>\n",
       "        <tr>\n",
       "            <td>2018-07-05</td> <td>4474             </td> <td>100            </td> <td>1200                   </td>\n",
       "        </tr>\n",
       "        <tr>\n",
       "            <td>2018-07-06</td> <td>2371             </td> <td>100            </td> <td>575.8                  </td>\n",
       "        </tr>\n",
       "        <tr>\n",
       "            <td>2018-07-07</td> <td>2000             </td> <td>118            </td> <td>423.6                  </td>\n",
       "        </tr>\n",
       "        <tr>\n",
       "            <td>2018-07-08</td> <td>30735            </td> <td>nan            </td> <td>7805.1                 </td>\n",
       "        </tr>\n",
       "        <tr>\n",
       "            <td>2018-07-09</td> <td>18567            </td> <td>nan            </td> <td>4800                   </td>\n",
       "        </tr>\n",
       "        <tr>\n",
       "            <td>2018-07-10</td> <td>9423             </td> <td>nan            </td> <td>2400                   </td>\n",
       "        </tr>\n",
       "        <tr>\n",
       "            <td>2018-07-11</td> <td>18213            </td> <td>nan            </td> <td>4800                   </td>\n",
       "        </tr>\n",
       "        <tr>\n",
       "            <td>2018-07-12</td> <td>22931            </td> <td>nan            </td> <td>6000                   </td>\n",
       "        </tr>\n",
       "        <tr>\n",
       "            <td>2018-07-13</td> <td>18452            </td> <td>nan            </td> <td>4800                   </td>\n",
       "        </tr>\n",
       "        <tr>\n",
       "            <td>2018-07-14</td> <td>18343            </td> <td>nan            </td> <td>4800                   </td>\n",
       "        </tr>\n",
       "        <tr>\n",
       "            <td>2018-07-15</td> <td>9354             </td> <td>nan            </td> <td>2400                   </td>\n",
       "        </tr>\n",
       "        <tr>\n",
       "            <td>2018-07-16</td> <td>17401            </td> <td>211            </td> <td>4711.2                 </td>\n",
       "        </tr>\n",
       "        <tr>\n",
       "            <td>2018-07-17</td> <td>9640             </td> <td>199            </td> <td>2531.3                 </td>\n",
       "        </tr>\n",
       "        <tr>\n",
       "            <td>2018-07-18</td> <td>17445            </td> <td>nan            </td> <td>4800                   </td>\n",
       "        </tr>\n",
       "        <tr>\n",
       "            <td>2018-07-19</td> <td>4000             </td> <td>nan            </td> <td>819.1                  </td>\n",
       "        </tr>\n",
       "        <tr>\n",
       "            <td>2018-07-21</td> <td>10500            </td> <td>nan            </td> <td>2516.6                 </td>\n",
       "        </tr>\n",
       "        <tr>\n",
       "            <td>2018-07-22</td> <td>19143            </td> <td>nan            </td> <td>5010                   </td>\n",
       "        </tr>\n",
       "        <tr>\n",
       "            <td>2018-07-23</td> <td>18898            </td> <td>nan            </td> <td>4800                   </td>\n",
       "        </tr>\n",
       "        <tr>\n",
       "            <td>2018-07-24</td> <td>10748            </td> <td>952            </td> <td>2607.9                 </td>\n",
       "        </tr>\n",
       "        <tr>\n",
       "            <td>2018-07-25</td> <td>21840            </td> <td>nan            </td> <td>6000                   </td>\n",
       "        </tr>\n",
       "        <tr>\n",
       "            <td>2018-07-26</td> <td>9567             </td> <td>nan            </td> <td>2400                   </td>\n",
       "        </tr>\n",
       "        <tr>\n",
       "            <td>2018-07-27</td> <td>18913            </td> <td>nan            </td> <td>4800                   </td>\n",
       "        </tr>\n",
       "        <tr>\n",
       "            <td>2018-07-28</td> <td>13300            </td> <td>nan            </td> <td>3600                   </td>\n",
       "        </tr>\n",
       "        <tr>\n",
       "            <td>2018-07-30</td> <td>10000            </td> <td>nan            </td> <td>2557                   </td>\n",
       "        </tr>\n",
       "        <tr>\n",
       "            <td>2018-08-01</td> <td>18567            </td> <td>nan            </td> <td>4800                   </td>\n",
       "        </tr>\n",
       "        <tr>\n",
       "            <td>2018-08-02</td> <td>21027            </td> <td>nan            </td> <td>5459.5                 </td>\n",
       "        </tr>\n",
       "        <tr>\n",
       "            <td>2018-08-03</td> <td>1513             </td> <td>nan            </td> <td>300                    </td>\n",
       "        </tr>\n",
       "        <tr>\n",
       "            <td>2018-08-04</td> <td>18328            </td> <td>nan            </td> <td>4800                   </td>\n",
       "        </tr>\n",
       "    </tbody>\n",
       "</table>"
      ],
      "text/plain": [
       "<IPython.core.display.HTML object>"
      ]
     },
     "metadata": {},
     "output_type": "display_data"
    }
   ],
   "source": [
    "#This gives us the dates we want\n",
    "better_rowing_grouped = better_rowing_grouped.where(\"Date\", are.between_or_equal_to(\"2018-06-18\", \"2018-08-04\"))\n",
    "better_rowing_grouped.show()"
   ]
  },
  {
   "cell_type": "code",
   "execution_count": 7,
   "metadata": {},
   "outputs": [],
   "source": [
    "#Finally we export the table as a CSV\n",
    "better_rowing_grouped.to_csv(\"better_rowing_grouped.csv\")"
   ]
  },
  {
   "cell_type": "code",
   "execution_count": 10,
   "metadata": {},
   "outputs": [
    {
     "data": {
      "text/html": [
       "<table border=\"1\" class=\"dataframe\">\n",
       "    <thead>\n",
       "        <tr>\n",
       "            <th>Date</th> <th>Work Distance</th> <th>Resting Heart Rate</th> <th>Work Time (Seconds) </th>\n",
       "        </tr>\n",
       "    </thead>\n",
       "    <tbody>\n",
       "        <tr>\n",
       "            <td>2018-06-18</td> <td>14279        </td> <td>49                </td> <td>3600                </td>\n",
       "        </tr>\n",
       "        <tr>\n",
       "            <td>2018-06-19</td> <td>6399         </td> <td>74                </td> <td>1446.8              </td>\n",
       "        </tr>\n",
       "        <tr>\n",
       "            <td>2018-06-20</td> <td>14365        </td> <td>72                </td> <td>3600                </td>\n",
       "        </tr>\n",
       "        <tr>\n",
       "            <td>2018-06-21</td> <td>9696         </td> <td>56                </td> <td>2527.5              </td>\n",
       "        </tr>\n",
       "        <tr>\n",
       "            <td>2018-06-22</td> <td>6072         </td> <td>58                </td> <td>1474.3              </td>\n",
       "        </tr>\n",
       "        <tr>\n",
       "            <td>2018-06-25</td> <td>18403        </td> <td>47                </td> <td>4800                </td>\n",
       "        </tr>\n",
       "        <tr>\n",
       "            <td>2018-06-26</td> <td>18319        </td> <td>45                </td> <td>4740                </td>\n",
       "        </tr>\n",
       "        <tr>\n",
       "            <td>2018-06-27</td> <td>23003        </td> <td>48                </td> <td>6000                </td>\n",
       "        </tr>\n",
       "        <tr>\n",
       "            <td>2018-06-29</td> <td>19168        </td> <td>48                </td> <td>4906.9              </td>\n",
       "        </tr>\n",
       "        <tr>\n",
       "            <td>2018-06-30</td> <td>9197         </td> <td>37                </td> <td>2400                </td>\n",
       "        </tr>\n",
       "    </tbody>\n",
       "</table>\n",
       "<p>... (30 rows omitted)</p>"
      ],
      "text/plain": [
       "Date       | Work Distance | Resting Heart Rate | Work Time (Seconds)\n",
       "2018-06-18 | 14279         | 49                 | 3600\n",
       "2018-06-19 | 6399          | 74                 | 1446.8\n",
       "2018-06-20 | 14365         | 72                 | 3600\n",
       "2018-06-21 | 9696          | 56                 | 2527.5\n",
       "2018-06-22 | 6072          | 58                 | 1474.3\n",
       "2018-06-25 | 18403         | 47                 | 4800\n",
       "2018-06-26 | 18319         | 45                 | 4740\n",
       "2018-06-27 | 23003         | 48                 | 6000\n",
       "2018-06-29 | 19168         | 48                 | 4906.9\n",
       "2018-06-30 | 9197          | 37                 | 2400\n",
       "... (30 rows omitted)"
      ]
     },
     "execution_count": 10,
     "metadata": {},
     "output_type": "execute_result"
    }
   ],
   "source": [
    "#Now in excel we added heart rate values and cleaned up our data, lets visualize!!\n",
    "final_rowing = Table().read_table(\"rowing_data.csv\")\n",
    "final_rowing"
   ]
  },
  {
   "cell_type": "code",
   "execution_count": 14,
   "metadata": {},
   "outputs": [
    {
     "data": {
      "image/png": "[encoded data removed]",
      "text/plain": [
       "<Figure size 360x360 with 1 Axes>"
      ]
     },
     "metadata": {},
     "output_type": "display_data"
    },
    {
     "data": {
      "image/png": "[encoded data removed]",
      "text/plain": [
       "<Figure size 432x288 with 1 Axes>"
      ]
     },
     "metadata": {},
     "output_type": "display_data"
    }
   ],
   "source": [
    "final_rowing.scatter(\"Date\", \"Resting Heart Rate\")\n",
    "final_rowing.plot(\"Date\", \"Work Distance\")"
   ]
  },
  {
   "cell_type": "code",
   "execution_count": null,
   "metadata": {},
   "outputs": [],
   "source": [
    "#This data shows a trend of resting heart rate going up, then coming back down.\n",
    "#This could be indicative of fatigue and cardio improvement with volume. If we observe the line graph we can see days\n",
    "#Where work distance is high also have high resting heart rates, an"
   ]
  }
 ],
 "metadata": {
  "kernelspec": {
   "display_name": "Python 3",
   "language": "python",
   "name": "python3"
  },
  "language_info": {
   "codemirror_mode": {
    "name": "ipython",
    "version": 3
   },
   "file_extension": ".py",
   "mimetype": "text/x-python",
   "name": "python",
   "nbconvert_exporter": "python",
   "pygments_lexer": "ipython3",
   "version": "3.7.3"
  }
 },
 "nbformat": 4,
 "nbformat_minor": 2
}
